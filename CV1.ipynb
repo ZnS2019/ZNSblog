{
 "cells": [
  {
   "cell_type": "markdown",
   "metadata": {},
   "source": [
    "# 图像处理（上）\n",
    "## task 01 OpenCV框架与图像插值算法"
   ]
  },
  {
   "cell_type": "markdown",
   "metadata": {},
   "source": [
    "### 1.1 最近邻插值算法\n",
    "将目标图像中的点，对应到源图像中后，找到最相邻的整数点，作为插值后的输出。\n",
    "### 1.2 插值算法\n",
    "线性插值：\n",
    "$$ f(x) = a_1 x+a_0 $$\n",
    "双线性插值：在二维上的推广\n",
    "$$ f(x,y) = ax+by+cxy+d $$\n",
    "e.g. 已知 $f(1,1),f(1,0),f(0,1),f(0,0)$ 求 $f(x,y)$\n",
    "$$ f(0,0),f(1,0)->f(x,0)$$\n",
    "$$ f(x,0),f(x,1)->f(x,y)$$\n",
    "### 1.3 位置映射方法\n",
    "原图位置(x,y)经过变换后可能位于非整数位置\n",
    "\n",
    "向前映射（像素移交映射）：原图像素点的灰度值在周围点上分配、叠加  \n",
    "-：需要遍历全图才能得到\n",
    "\n",
    "向后映射（图像填充映射）：左边变换+插值即可"
   ]
  },
  {
   "cell_type": "markdown",
   "metadata": {},
   "source": [
    "### 1.4python\n",
    "> cv2.resize(src, dsize[, dst[, fx[, fy[, interpolation]]]])\n",
    "#### 参数\n",
    "dsize 输出图像大小  \n",
    "fx fy:x y轴比例因子  \n",
    "interpolation 插值方式  \n",
    "\n",
    "cv.INTER_NEAREST 最近邻  \n",
    "cv.INTER_LINEAR 双线性(default)   \n",
    "cv.INTER_CUBIC 基于4x4像素邻域的3次插值法  \n",
    "cv.INTER_AREA  基于局部像素的重采样  "
   ]
  },
  {
   "cell_type": "code",
   "execution_count": null,
   "metadata": {},
   "outputs": [],
   "source": [
    "import cv2\n",
    "import numpy as np\n",
    "\n",
    "img = cv2.imread('test.jpg') \n",
    "im_h, im_w, im_dep = img.shape\n",
    "\n",
    "print('Original Dimensions: ', img.shape)"
   ]
  }
 ],
 "metadata": {
  "kernelspec": {
   "display_name": "Python 3",
   "language": "python",
   "name": "python3"
  },
  "language_info": {
   "codemirror_mode": {
    "name": "ipython",
    "version": 3
   },
   "file_extension": ".py",
   "mimetype": "text/x-python",
   "name": "python",
   "nbconvert_exporter": "python",
   "pygments_lexer": "ipython3",
   "version": "3.7.4"
  }
 },
 "nbformat": 4,
 "nbformat_minor": 2
}
